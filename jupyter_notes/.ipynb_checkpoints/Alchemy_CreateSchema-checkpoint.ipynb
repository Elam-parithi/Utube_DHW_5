{
 "cells": [
  {
   "cell_type": "markdown",
   "id": "565a5fa0",
   "metadata": {},
   "source": [
    "# Createing schema in MySQL Database"
   ]
  },
  {
   "cell_type": "markdown",
   "id": "c8946d51",
   "metadata": {},
   "source": [
    "#### Check if the notebook is on virtual environment."
   ]
  },
  {
   "cell_type": "code",
   "execution_count": 1,
   "id": "4f972116",
   "metadata": {},
   "outputs": [
    {
     "name": "stdout",
     "output_type": "stream",
     "text": [
      "C:\\Users\\Elamparithi\\PycharmProjects\\Utube_DHW_5\\.venv\\Scripts\\python.exe\n"
     ]
    }
   ],
   "source": [
    "import sys\n",
    "print(sys.executable)"
   ]
  },
  {
   "cell_type": "markdown",
   "id": "f4af3782",
   "metadata": {},
   "source": [
    "#### Keeping your secrets secure is your responsibility"
   ]
  },
  {
   "cell_type": "code",
   "execution_count": 2,
   "id": "7efa0140",
   "metadata": {
    "scrolled": true
   },
   "outputs": [
    {
     "data": {
      "text/plain": [
       "True"
      ]
     },
     "execution_count": 2,
     "metadata": {},
     "output_type": "execute_result"
    }
   ],
   "source": [
    "# Keep Secrets separate\n",
    "from dotenv import load_dotenv\n",
    "from os import getenv\n",
    "load_dotenv(r'C:\\Users\\Elamparithi\\PycharmProjects\\Utube_DHW_5\\.secrets')"
   ]
  },
  {
   "cell_type": "code",
   "execution_count": null,
   "id": "3ed94cf3",
   "metadata": {},
   "outputs": [],
   "source": [
    "pre_conn = getenv('pre_conn')\n",
    "schema_name = getenv('DB_NAME')\n",
    "connection_string = f'{pre_conn}{schema_name}'"
   ]
  },
  {
   "cell_type": "markdown",
   "id": "cf95497d",
   "metadata": {},
   "source": [
    "#### Import necessary modules."
   ]
  },
  {
   "cell_type": "code",
   "execution_count": 4,
   "id": "fa7fbfd1",
   "metadata": {},
   "outputs": [],
   "source": [
    "import sqlalchemy.exc\n",
    "from sqlalchemy import create_engine\n",
    "from sqlalchemy.schema import CreateSchema"
   ]
  },
  {
   "cell_type": "markdown",
   "id": "42f766ff",
   "metadata": {},
   "source": [
    "##### This 'separate_connection_string' function seperates schema name from the url."
   ]
  },
  {
   "cell_type": "code",
   "execution_count": 5,
   "id": "0e65512d",
   "metadata": {},
   "outputs": [],
   "source": [
    "def separate_connection_string(conn_string: str):\n",
    "    # Find the last occurrence of '/'\n",
    "    last_slash_index = conn_string.rfind('/')\n",
    "    \n",
    "    # If '/' is found, separate the URL and schema\n",
    "    if last_slash_index != -1:\n",
    "        connection_URL = conn_string[:last_slash_index]  # Everything before the last '/'\n",
    "        connection_Schema = conn_string[last_slash_index + 1:]  # Everything after the last '/'\n",
    "    else:\n",
    "        connection_URL = conn_string  # No '/' found\n",
    "        connection_Schema = ''\n",
    "    \n",
    "    return connection_URL, connection_Schema"
   ]
  },
  {
   "cell_type": "markdown",
   "id": "763210a2",
   "metadata": {},
   "source": [
    "#### Use that module for seperating the 'connection_string' to creat a Schema in MySQL. If you try it with schema name in URL it will throw an error."
   ]
  },
  {
   "cell_type": "code",
   "execution_count": null,
   "id": "d37f3964",
   "metadata": {},
   "outputs": [],
   "source": [
    "# Call the function\n",
    "connection_URL, connection_Schema = separate_connection_string(connection_string)\n"
   ]
  },
  {
   "cell_type": "markdown",
   "id": "1836a16d",
   "metadata": {},
   "source": [
    "#### Creating the Schema if not exists. You can use it with create schema command. this is for ORM."
   ]
  },
  {
   "cell_type": "code",
   "execution_count": 7,
   "id": "3481331e",
   "metadata": {},
   "outputs": [
    {
     "name": "stdout",
     "output_type": "stream",
     "text": [
      "2025-01-25 23:59:26,251 INFO sqlalchemy.engine.Engine SELECT DATABASE()\n",
      "2025-01-25 23:59:26,254 INFO sqlalchemy.engine.Engine [raw sql] {}\n",
      "2025-01-25 23:59:26,261 INFO sqlalchemy.engine.Engine SELECT @@sql_mode\n",
      "2025-01-25 23:59:26,264 INFO sqlalchemy.engine.Engine [raw sql] {}\n",
      "2025-01-25 23:59:26,269 INFO sqlalchemy.engine.Engine SELECT @@lower_case_table_names\n",
      "2025-01-25 23:59:26,272 INFO sqlalchemy.engine.Engine [raw sql] {}\n",
      "2025-01-25 23:59:26,281 INFO sqlalchemy.engine.Engine BEGIN (implicit)\n",
      "2025-01-25 23:59:26,286 INFO sqlalchemy.engine.Engine CREATE SCHEMA `Youtube_local`\n",
      "2025-01-25 23:59:26,290 INFO sqlalchemy.engine.Engine [no key 0.00914s] {}\n",
      "Schema 'Youtube_local' already exists, skipping creation.\n",
      "2025-01-25 23:59:26,320 INFO sqlalchemy.engine.Engine ROLLBACK\n",
      "Connection closed.\n"
     ]
    }
   ],
   "source": [
    "engine = create_engine(connection_URL, echo=True)\n",
    "with engine.connect() as conn:\n",
    "    try:\n",
    "        conn.execute(CreateSchema(schema_name))\n",
    "        print(f\"Schema '{schema_name}' created successfully.\")\n",
    "    except sqlalchemy.exc.ProgrammingError:\n",
    "        print(f\"Schema '{schema_name}' already exists, skipping creation.\")\n",
    "    finally:\n",
    "        conn.close()\n",
    "        print(\"Connection closed.\")"
   ]
  },
  {
   "cell_type": "code",
   "execution_count": null,
   "id": "6b1c6856",
   "metadata": {},
   "outputs": [],
   "source": []
  },
  {
   "cell_type": "markdown",
   "id": "9850a931",
   "metadata": {},
   "source": [
    "#### Next Alcheamy_Tables for creating the schema tables."
   ]
  },
  {
   "cell_type": "code",
   "execution_count": null,
   "id": "0d1ea2a2",
   "metadata": {},
   "outputs": [],
   "source": []
  }
 ],
 "metadata": {
  "kernelspec": {
   "display_name": "Python(Utube_DHW_5)",
   "language": "python",
   "name": "utube_dhw_5"
  },
  "language_info": {
   "codemirror_mode": {
    "name": "ipython",
    "version": 3
   },
   "file_extension": ".py",
   "mimetype": "text/x-python",
   "name": "python",
   "nbconvert_exporter": "python",
   "pygments_lexer": "ipython3",
   "version": "3.12.0"
  }
 },
 "nbformat": 4,
 "nbformat_minor": 5
}
