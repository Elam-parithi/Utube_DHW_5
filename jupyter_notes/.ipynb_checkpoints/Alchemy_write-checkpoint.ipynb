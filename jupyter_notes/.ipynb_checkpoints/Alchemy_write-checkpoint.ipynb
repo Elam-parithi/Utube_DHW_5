{
 "cells": [
  {
   "cell_type": "markdown",
   "id": "2ab829ba",
   "metadata": {},
   "source": [
    "You need tables to write data into it. Make sure tor run Alchemy_tables befor running this."
   ]
  },
  {
   "cell_type": "markdown",
   "id": "a0f31fb9",
   "metadata": {},
   "source": [
    "# write to Database"
   ]
  },
  {
   "cell_type": "code",
   "execution_count": 29,
   "id": "eb8f5090",
   "metadata": {
    "scrolled": true
   },
   "outputs": [
    {
     "name": "stdout",
     "output_type": "stream",
     "text": [
      "C:\\Users\\Elamparithi\\PycharmProjects\\Utube_DHW_5\n"
     ]
    }
   ],
   "source": [
    "cd C:\\Users\\Elamparithi\\PycharmProjects\\Utube_DHW_5"
   ]
  },
  {
   "cell_type": "code",
   "execution_count": 30,
   "id": "db06664a",
   "metadata": {},
   "outputs": [],
   "source": [
    "from create_db import *"
   ]
  },
  {
   "cell_type": "code",
   "execution_count": 31,
   "id": "7bab1242",
   "metadata": {},
   "outputs": [],
   "source": [
    "from sqlalchemy.exc import PendingRollbackError\n",
    "from datetime import datetime\n",
    "import os, re, json\n",
    "from sqlalchemy.orm import sessionmaker, relationship"
   ]
  },
  {
   "cell_type": "code",
   "execution_count": 32,
   "id": "7ea8b8b3",
   "metadata": {},
   "outputs": [
    {
     "data": {
      "text/plain": [
       "True"
      ]
     },
     "execution_count": 32,
     "metadata": {},
     "output_type": "execute_result"
    }
   ],
   "source": [
    "from dotenv import load_dotenv\n",
    "from os import getenv\n",
    "load_dotenv(r'C:\\Users\\Elamparithi\\PycharmProjects\\Utube_DHW_5\\.secrets')"
   ]
  },
  {
   "cell_type": "code",
   "execution_count": 33,
   "id": "940721c8",
   "metadata": {},
   "outputs": [],
   "source": [
    "pre_conn = getenv('pre_conn')\n",
    "schema_name = getenv('DB_NAME')\n",
    "connection_string = f'{pre_conn}{schema_name}'"
   ]
  },
  {
   "cell_type": "code",
   "execution_count": 34,
   "id": "3eae4ca7",
   "metadata": {},
   "outputs": [],
   "source": [
    "engine = create_engine(connection_string, echo=False)"
   ]
  },
  {
   "cell_type": "code",
   "execution_count": 35,
   "id": "02e428e6",
   "metadata": {},
   "outputs": [],
   "source": [
    "def convert_to_datetime(date_string: str) -> datetime:\n",
    "    # this is for use in Video_class\n",
    "    date_string = date_string.rstrip('Z')\n",
    "    return datetime.strptime(date_string, '%Y-%m-%dT%H:%M:%S')"
   ]
  },
  {
   "cell_type": "code",
   "execution_count": 36,
   "id": "309cde8f",
   "metadata": {},
   "outputs": [],
   "source": [
    "def iso_duration_to_seconds(iso_duration: str) -> int:\n",
    "    match = re.match(r'PT(?:(\\d+)H)?(?:(\\d+)M)?(?:(\\d+)S)?', iso_duration)\n",
    "    if not match:\n",
    "        if iso_duration == \"P0D\":\n",
    "            return 0\n",
    "        else:\n",
    "            raise ValueError(f\"Invalid ISO 8601 duration format: {iso_duration}\")\n",
    "    hours = int(match.group(1) or 0)\n",
    "    minutes = int(match.group(2) or 0)\n",
    "    seconds = int(match.group(3) or 0)\n",
    "    total_seconds = hours * 3600 + minutes * 60 + seconds\n",
    "    return total_seconds"
   ]
  },
  {
   "cell_type": "code",
   "execution_count": 37,
   "id": "faa07de3",
   "metadata": {},
   "outputs": [],
   "source": [
    "Session = sessionmaker(bind=engine)\n",
    "session = Session()"
   ]
  },
  {
   "cell_type": "code",
   "execution_count": 38,
   "id": "d12f81d2",
   "metadata": {},
   "outputs": [],
   "source": [
    "extracted_dir = r\"C:\\Users\\Elamparithi\\PycharmProjects\\Utube_DHW_5\\extracted_data\"\n",
    "\n",
    "filepath = [\n",
    "    'TheRegent-20250125-070247.json.json'\n",
    "    'Behindwoods TV-20240825-115545.json',\n",
    "    'GUVI-20240907-154356.json',\n",
    "    'Sahi Siva-20240913-032253.json',\n",
    "    'SHIVA SAI ENTERTAINMENT CHANNEL-20240824-190244.json'\n",
    "]"
   ]
  },
  {
   "cell_type": "code",
   "execution_count": 39,
   "id": "e9fd35b1",
   "metadata": {},
   "outputs": [
    {
     "name": "stdout",
     "output_type": "stream",
     "text": [
      "Processing Behindwoods TV-20240825-115545.json...\n"
     ]
    },
    {
     "name": "stderr",
     "output_type": "stream",
     "text": [
      "Exception ignored in: <bound method IPythonKernel._clean_thread_parent_frames of <ipykernel.ipkernel.IPythonKernel object at 0x0000021DD7697680>>\n",
      "Traceback (most recent call last):\n",
      "  File \"C:\\Users\\Elamparithi\\PycharmProjects\\Utube_DHW_5\\.venv\\Lib\\site-packages\\ipykernel\\ipkernel.py\", line 790, in _clean_thread_parent_frames\n",
      "    active_threads = {thread.ident for thread in threading.enumerate()}\n",
      "                                                 ^^^^^^^^^^^^^^^^^^^^^\n",
      "  File \"C:\\Users\\Elamparithi\\AppData\\Local\\Programs\\Python\\Python312\\Lib\\threading.py\", line 1513, in enumerate\n",
      "    def enumerate():\n",
      "    \n",
      "KeyboardInterrupt: \n"
     ]
    },
    {
     "name": "stdout",
     "output_type": "stream",
     "text": [
      "An error occurred: (pymysql.err.IntegrityError) (1062, \"Duplicate entry 'UC8md0UEGj7UbjcZtMjBVrgQ' for key 'channels.PRIMARY'\")\n",
      "[SQL: INSERT INTO channels (channel_id, channel_name, channel_type, channel_views, channel_description, channel_status) VALUES (%(channel_id)s, %(channel_name)s, %(channel_type)s, %(channel_views)s, %(channel_description)s, %(channel_status)s)]\n",
      "[parameters: {'channel_id': 'UC8md0UEGj7UbjcZtMjBVrgQ', 'channel_name': 'Behindwoods TV', 'channel_type': 'Place_Holding_NoType', 'channel_views': 13866375135, 'channel_description': 'Behindwoods covers Tamil Nadu & Chennai - News, Politics, Current Affairs, City Life, Tamil Movies, Personality Interviews, Movie Reviews, Events, Li ... (53 characters truncated) ... hindwoods is the most popular online media organisation in Tamil Nadu, trusted for its highest standards of ethics and quality for the past 19 years.', 'channel_status': \"{'privacyStatus': 'public', 'isLinked': True, 'longUploadsStatus': 'longUploadsUnspecified', 'madeForKids': False}\"}]\n",
      "(Background on this error at: https://sqlalche.me/e/20/gkpj)\n"
     ]
    },
    {
     "ename": "TypeError",
     "evalue": "'playlist_ID' is an invalid keyword argument for Video_class",
     "output_type": "error",
     "traceback": [
      "\u001b[1;31m---------------------------------------------------------------------------\u001b[0m",
      "\u001b[1;31mTypeError\u001b[0m                                 Traceback (most recent call last)",
      "Cell \u001b[1;32mIn[39], line 48\u001b[0m\n\u001b[0;32m     46\u001b[0m video_data \u001b[38;5;241m=\u001b[39m videos_dict[\u001b[38;5;28mnext\u001b[39m(\u001b[38;5;28miter\u001b[39m(videos_dict))]\n\u001b[0;32m     47\u001b[0m video_vid \u001b[38;5;241m=\u001b[39m video_data\u001b[38;5;241m.\u001b[39mget(\u001b[38;5;124m'\u001b[39m\u001b[38;5;124mVideo_Id\u001b[39m\u001b[38;5;124m'\u001b[39m)\n\u001b[1;32m---> 48\u001b[0m video_record \u001b[38;5;241m=\u001b[39m \u001b[43mVideo_class\u001b[49m\u001b[43m(\u001b[49m\n\u001b[0;32m     49\u001b[0m \u001b[43m    \u001b[49m\u001b[43mvideo_id\u001b[49m\u001b[38;5;241;43m=\u001b[39;49m\u001b[43mvideo_vid\u001b[49m\u001b[43m,\u001b[49m\n\u001b[0;32m     50\u001b[0m \u001b[43m    \u001b[49m\u001b[43mplaylist_ID\u001b[49m\u001b[38;5;241;43m=\u001b[39;49m\u001b[43mplaylist_plid\u001b[49m\u001b[43m,\u001b[49m\n\u001b[0;32m     51\u001b[0m \u001b[43m    \u001b[49m\u001b[43mvideo_name\u001b[49m\u001b[38;5;241;43m=\u001b[39;49m\u001b[43mvideo_data\u001b[49m\u001b[38;5;241;43m.\u001b[39;49m\u001b[43mget\u001b[49m\u001b[43m(\u001b[49m\u001b[38;5;124;43m\"\u001b[39;49m\u001b[38;5;124;43mVideo_Name\u001b[39;49m\u001b[38;5;124;43m\"\u001b[39;49m\u001b[43m)\u001b[49m\u001b[43m,\u001b[49m\n\u001b[0;32m     52\u001b[0m \u001b[43m    \u001b[49m\u001b[43mvideo_description\u001b[49m\u001b[38;5;241;43m=\u001b[39;49m\u001b[43mvideo_data\u001b[49m\u001b[38;5;241;43m.\u001b[39;49m\u001b[43mget\u001b[49m\u001b[43m(\u001b[49m\u001b[38;5;124;43m\"\u001b[39;49m\u001b[38;5;124;43mCaption_Status\u001b[39;49m\u001b[38;5;124;43m\"\u001b[39;49m\u001b[43m)\u001b[49m\u001b[43m,\u001b[49m\n\u001b[0;32m     53\u001b[0m \u001b[43m    \u001b[49m\u001b[43mpublished_date\u001b[49m\u001b[38;5;241;43m=\u001b[39;49m\u001b[43mconvert_to_datetime\u001b[49m\u001b[43m(\u001b[49m\u001b[43mvideo_data\u001b[49m\u001b[38;5;241;43m.\u001b[39;49m\u001b[43mget\u001b[49m\u001b[43m(\u001b[49m\u001b[38;5;124;43m\"\u001b[39;49m\u001b[38;5;124;43mPublishedAt\u001b[39;49m\u001b[38;5;124;43m\"\u001b[39;49m\u001b[43m)\u001b[49m\u001b[43m)\u001b[49m\u001b[43m,\u001b[49m\n\u001b[0;32m     54\u001b[0m \u001b[43m    \u001b[49m\u001b[43mview_count\u001b[49m\u001b[38;5;241;43m=\u001b[39;49m\u001b[43mvideo_data\u001b[49m\u001b[38;5;241;43m.\u001b[39;49m\u001b[43mget\u001b[49m\u001b[43m(\u001b[49m\u001b[38;5;124;43m\"\u001b[39;49m\u001b[38;5;124;43mView_Count\u001b[39;49m\u001b[38;5;124;43m\"\u001b[39;49m\u001b[43m)\u001b[49m\u001b[43m,\u001b[49m\n\u001b[0;32m     55\u001b[0m \u001b[43m    \u001b[49m\u001b[43mlike_count\u001b[49m\u001b[38;5;241;43m=\u001b[39;49m\u001b[43mvideo_data\u001b[49m\u001b[38;5;241;43m.\u001b[39;49m\u001b[43mget\u001b[49m\u001b[43m(\u001b[49m\u001b[38;5;124;43m\"\u001b[39;49m\u001b[38;5;124;43mLike_Count\u001b[39;49m\u001b[38;5;124;43m\"\u001b[39;49m\u001b[43m)\u001b[49m\u001b[43m,\u001b[49m\n\u001b[0;32m     56\u001b[0m \u001b[43m    \u001b[49m\u001b[43mdislike_count\u001b[49m\u001b[38;5;241;43m=\u001b[39;49m\u001b[43mvideo_data\u001b[49m\u001b[38;5;241;43m.\u001b[39;49m\u001b[43mget\u001b[49m\u001b[43m(\u001b[49m\u001b[38;5;124;43m\"\u001b[39;49m\u001b[38;5;124;43mDislike_Count\u001b[39;49m\u001b[38;5;124;43m\"\u001b[39;49m\u001b[43m)\u001b[49m\u001b[43m,\u001b[49m\n\u001b[0;32m     57\u001b[0m \u001b[43m    \u001b[49m\u001b[43mfavorite_count\u001b[49m\u001b[38;5;241;43m=\u001b[39;49m\u001b[43mvideo_data\u001b[49m\u001b[38;5;241;43m.\u001b[39;49m\u001b[43mget\u001b[49m\u001b[43m(\u001b[49m\u001b[38;5;124;43m\"\u001b[39;49m\u001b[38;5;124;43mFavorite_Count\u001b[39;49m\u001b[38;5;124;43m\"\u001b[39;49m\u001b[43m)\u001b[49m\u001b[43m,\u001b[49m\n\u001b[0;32m     58\u001b[0m \u001b[43m    \u001b[49m\u001b[43mcomment_count\u001b[49m\u001b[38;5;241;43m=\u001b[39;49m\u001b[43mvideo_data\u001b[49m\u001b[38;5;241;43m.\u001b[39;49m\u001b[43mget\u001b[49m\u001b[43m(\u001b[49m\u001b[38;5;124;43m\"\u001b[39;49m\u001b[38;5;124;43mComment_Count\u001b[39;49m\u001b[38;5;124;43m\"\u001b[39;49m\u001b[43m)\u001b[49m\u001b[43m,\u001b[49m\n\u001b[0;32m     59\u001b[0m \u001b[43m    \u001b[49m\u001b[43mduration\u001b[49m\u001b[38;5;241;43m=\u001b[39;49m\u001b[43miso_duration_to_seconds\u001b[49m\u001b[43m(\u001b[49m\u001b[43mvideo_data\u001b[49m\u001b[38;5;241;43m.\u001b[39;49m\u001b[43mget\u001b[49m\u001b[43m(\u001b[49m\u001b[38;5;124;43m\"\u001b[39;49m\u001b[38;5;124;43mDuration\u001b[39;49m\u001b[38;5;124;43m\"\u001b[39;49m\u001b[43m)\u001b[49m\u001b[43m)\u001b[49m\u001b[43m,\u001b[49m\n\u001b[0;32m     60\u001b[0m \u001b[43m    \u001b[49m\u001b[43mthumbnail\u001b[49m\u001b[38;5;241;43m=\u001b[39;49m\u001b[43mvideo_data\u001b[49m\u001b[38;5;241;43m.\u001b[39;49m\u001b[43mget\u001b[49m\u001b[43m(\u001b[49m\u001b[38;5;124;43m\"\u001b[39;49m\u001b[38;5;124;43mThumbnail\u001b[39;49m\u001b[38;5;124;43m\"\u001b[39;49m\u001b[43m)\u001b[49m\u001b[43m,\u001b[49m\n\u001b[0;32m     61\u001b[0m \u001b[43m    \u001b[49m\u001b[43mcaption_status\u001b[49m\u001b[38;5;241;43m=\u001b[39;49m\u001b[43mvideo_data\u001b[49m\u001b[38;5;241;43m.\u001b[39;49m\u001b[43mget\u001b[49m\u001b[43m(\u001b[49m\u001b[38;5;124;43m\"\u001b[39;49m\u001b[38;5;124;43mCaption_Status\u001b[39;49m\u001b[38;5;124;43m\"\u001b[39;49m\u001b[43m)\u001b[49m\u001b[43m,\u001b[49m\n\u001b[0;32m     62\u001b[0m \u001b[43m\u001b[49m\u001b[43m)\u001b[49m\n\u001b[0;32m     64\u001b[0m \u001b[38;5;28;01mif\u001b[39;00m \u001b[38;5;129;01mnot\u001b[39;00m session\u001b[38;5;241m.\u001b[39mquery(Video_class)\u001b[38;5;241m.\u001b[39mfilter_by(video_id\u001b[38;5;241m=\u001b[39mvideo_vid)\u001b[38;5;241m.\u001b[39mfirst():\n\u001b[0;32m     65\u001b[0m     video_records\u001b[38;5;241m.\u001b[39mappend(video_record)\n",
      "File \u001b[1;32m<string>:4\u001b[0m, in \u001b[0;36m__init__\u001b[1;34m(self, **kwargs)\u001b[0m\n",
      "File \u001b[1;32m~\\PycharmProjects\\Utube_DHW_5\\.venv\\Lib\\site-packages\\sqlalchemy\\orm\\state.py:571\u001b[0m, in \u001b[0;36mInstanceState._initialize_instance\u001b[1;34m(*mixed, **kwargs)\u001b[0m\n\u001b[0;32m    569\u001b[0m     manager\u001b[38;5;241m.\u001b[39moriginal_init(\u001b[38;5;241m*\u001b[39mmixed[\u001b[38;5;241m1\u001b[39m:], \u001b[38;5;241m*\u001b[39m\u001b[38;5;241m*\u001b[39mkwargs)\n\u001b[0;32m    570\u001b[0m \u001b[38;5;28;01mexcept\u001b[39;00m:\n\u001b[1;32m--> 571\u001b[0m \u001b[43m    \u001b[49m\u001b[38;5;28;43;01mwith\u001b[39;49;00m\u001b[43m \u001b[49m\u001b[43mutil\u001b[49m\u001b[38;5;241;43m.\u001b[39;49m\u001b[43msafe_reraise\u001b[49m\u001b[43m(\u001b[49m\u001b[43m)\u001b[49m\u001b[43m:\u001b[49m\n\u001b[0;32m    572\u001b[0m \u001b[43m        \u001b[49m\u001b[43mmanager\u001b[49m\u001b[38;5;241;43m.\u001b[39;49m\u001b[43mdispatch\u001b[49m\u001b[38;5;241;43m.\u001b[39;49m\u001b[43minit_failure\u001b[49m\u001b[43m(\u001b[49m\u001b[38;5;28;43mself\u001b[39;49m\u001b[43m,\u001b[49m\u001b[43m \u001b[49m\u001b[43margs\u001b[49m\u001b[43m,\u001b[49m\u001b[43m \u001b[49m\u001b[43mkwargs\u001b[49m\u001b[43m)\u001b[49m\n",
      "File \u001b[1;32m~\\PycharmProjects\\Utube_DHW_5\\.venv\\Lib\\site-packages\\sqlalchemy\\util\\langhelpers.py:146\u001b[0m, in \u001b[0;36msafe_reraise.__exit__\u001b[1;34m(self, type_, value, traceback)\u001b[0m\n\u001b[0;32m    144\u001b[0m     \u001b[38;5;28;01massert\u001b[39;00m exc_value \u001b[38;5;129;01mis\u001b[39;00m \u001b[38;5;129;01mnot\u001b[39;00m \u001b[38;5;28;01mNone\u001b[39;00m\n\u001b[0;32m    145\u001b[0m     \u001b[38;5;28mself\u001b[39m\u001b[38;5;241m.\u001b[39m_exc_info \u001b[38;5;241m=\u001b[39m \u001b[38;5;28;01mNone\u001b[39;00m  \u001b[38;5;66;03m# remove potential circular references\u001b[39;00m\n\u001b[1;32m--> 146\u001b[0m     \u001b[38;5;28;01mraise\u001b[39;00m exc_value\u001b[38;5;241m.\u001b[39mwith_traceback(exc_tb)\n\u001b[0;32m    147\u001b[0m \u001b[38;5;28;01melse\u001b[39;00m:\n\u001b[0;32m    148\u001b[0m     \u001b[38;5;28mself\u001b[39m\u001b[38;5;241m.\u001b[39m_exc_info \u001b[38;5;241m=\u001b[39m \u001b[38;5;28;01mNone\u001b[39;00m  \u001b[38;5;66;03m# remove potential circular references\u001b[39;00m\n",
      "File \u001b[1;32m~\\PycharmProjects\\Utube_DHW_5\\.venv\\Lib\\site-packages\\sqlalchemy\\orm\\state.py:569\u001b[0m, in \u001b[0;36mInstanceState._initialize_instance\u001b[1;34m(*mixed, **kwargs)\u001b[0m\n\u001b[0;32m    566\u001b[0m manager\u001b[38;5;241m.\u001b[39mdispatch\u001b[38;5;241m.\u001b[39minit(\u001b[38;5;28mself\u001b[39m, args, kwargs)\n\u001b[0;32m    568\u001b[0m \u001b[38;5;28;01mtry\u001b[39;00m:\n\u001b[1;32m--> 569\u001b[0m     \u001b[43mmanager\u001b[49m\u001b[38;5;241;43m.\u001b[39;49m\u001b[43moriginal_init\u001b[49m\u001b[43m(\u001b[49m\u001b[38;5;241;43m*\u001b[39;49m\u001b[43mmixed\u001b[49m\u001b[43m[\u001b[49m\u001b[38;5;241;43m1\u001b[39;49m\u001b[43m:\u001b[49m\u001b[43m]\u001b[49m\u001b[43m,\u001b[49m\u001b[43m \u001b[49m\u001b[38;5;241;43m*\u001b[39;49m\u001b[38;5;241;43m*\u001b[39;49m\u001b[43mkwargs\u001b[49m\u001b[43m)\u001b[49m\n\u001b[0;32m    570\u001b[0m \u001b[38;5;28;01mexcept\u001b[39;00m:\n\u001b[0;32m    571\u001b[0m     \u001b[38;5;28;01mwith\u001b[39;00m util\u001b[38;5;241m.\u001b[39msafe_reraise():\n",
      "File \u001b[1;32m~\\PycharmProjects\\Utube_DHW_5\\.venv\\Lib\\site-packages\\sqlalchemy\\orm\\decl_base.py:2177\u001b[0m, in \u001b[0;36m_declarative_constructor\u001b[1;34m(self, **kwargs)\u001b[0m\n\u001b[0;32m   2175\u001b[0m \u001b[38;5;28;01mfor\u001b[39;00m k \u001b[38;5;129;01min\u001b[39;00m kwargs:\n\u001b[0;32m   2176\u001b[0m     \u001b[38;5;28;01mif\u001b[39;00m \u001b[38;5;129;01mnot\u001b[39;00m \u001b[38;5;28mhasattr\u001b[39m(cls_, k):\n\u001b[1;32m-> 2177\u001b[0m         \u001b[38;5;28;01mraise\u001b[39;00m \u001b[38;5;167;01mTypeError\u001b[39;00m(\n\u001b[0;32m   2178\u001b[0m             \u001b[38;5;124m\"\u001b[39m\u001b[38;5;132;01m%r\u001b[39;00m\u001b[38;5;124m is an invalid keyword argument for \u001b[39m\u001b[38;5;132;01m%s\u001b[39;00m\u001b[38;5;124m\"\u001b[39m \u001b[38;5;241m%\u001b[39m (k, cls_\u001b[38;5;241m.\u001b[39m\u001b[38;5;18m__name__\u001b[39m)\n\u001b[0;32m   2179\u001b[0m         )\n\u001b[0;32m   2180\u001b[0m     \u001b[38;5;28msetattr\u001b[39m(\u001b[38;5;28mself\u001b[39m, k, kwargs[k])\n",
      "\u001b[1;31mTypeError\u001b[0m: 'playlist_ID' is an invalid keyword argument for Video_class"
     ]
    }
   ],
   "source": [
    "for filename in filepath:\n",
    "    print(f\"Processing {filename}...\")\n",
    "    full_path = os.path.join(extracted_dir, filename)\n",
    "    with open(full_path, 'r') as file:\n",
    "        data = json.load(file)\n",
    "\n",
    "    channel_data = data[next(iter(data))]\n",
    "    channel_chid = channel_data.get(\"Channel_Id\")\n",
    "    CV = channel_data.get(\"Channel_Views\")\n",
    "    if not isinstance(CV, int):\n",
    "        CV = int(CV)\n",
    "    channel_record = Channel_class(\n",
    "        channel_id=channel_chid,\n",
    "        channel_name=channel_data.get(\"Channel_Name\"),\n",
    "        channel_type=\"Place_Holding_NoType\",  # Placeholder\n",
    "        channel_views=CV,\n",
    "        channel_description=channel_data.get(\"Channel_Description\"),\n",
    "        channel_status=str(channel_data.get(\"Channel_Status\"))\n",
    "    )\n",
    "\n",
    "    session.add(channel_record)\n",
    "    try:\n",
    "        session.commit()\n",
    "    except PendingRollbackError:\n",
    "        session.rollback()  # Roll back the session\n",
    "        print(\"Transaction rolled back due to an error.\")\n",
    "    except Exception as e:\n",
    "        session.rollback()  # Roll back on any other exception\n",
    "        print(f\"An error occurred: {e}\")\n",
    "\n",
    "    # Collect playlists and videos for batch insertion\n",
    "    playlist_records = []\n",
    "    video_records = []\n",
    "    comment_records = []\n",
    "\n",
    "    for playlist_data in channel_data.get(\"playlist\", []):\n",
    "        playlist_plid = playlist_data.get(\"playlist_ID\")\n",
    "        playlist_record = Playlist_class(\n",
    "            playlist_id=playlist_plid,\n",
    "            channel_id=channel_chid,\n",
    "            playlist_name=playlist_data.get(\"playlist_title\")\n",
    "        )\n",
    "        playlist_records.append(playlist_record)\n",
    "\n",
    "        for videos_dict in playlist_data.get(\"videos\", []):\n",
    "            video_data = videos_dict[next(iter(videos_dict))]\n",
    "            video_vid = video_data.get('Video_Id')\n",
    "            video_record = Video_class(\n",
    "                video_id=video_vid,\n",
    "                playlist_ID=playlist_plid,\n",
    "                video_name=video_data.get(\"Video_Name\"),\n",
    "                video_description=video_data.get(\"Caption_Status\"),\n",
    "                published_date=convert_to_datetime(video_data.get(\"PublishedAt\")),\n",
    "                view_count=video_data.get(\"View_Count\"),\n",
    "                like_count=video_data.get(\"Like_Count\"),\n",
    "                dislike_count=video_data.get(\"Dislike_Count\"),\n",
    "                favorite_count=video_data.get(\"Favorite_Count\"),\n",
    "                comment_count=video_data.get(\"Comment_Count\"),\n",
    "                duration=iso_duration_to_seconds(video_data.get(\"Duration\")),\n",
    "                thumbnail=video_data.get(\"Thumbnail\"),\n",
    "                caption_status=video_data.get(\"Caption_Status\"),\n",
    "            )\n",
    "\n",
    "            if not session.query(Video_class).filter_by(video_id=video_vid).first():\n",
    "                video_records.append(video_record)\n",
    "\n",
    "            for comment_dict in video_data.get(\"Comments\", {}).values():\n",
    "                comment_cid = comment_dict.get(\"Comment_Id\")\n",
    "                comment_record = Comment_class(\n",
    "                    comment_id=comment_cid,\n",
    "                    video_id=video_vid,\n",
    "                    comment_text=comment_dict.get(\"Comment_Text\"),\n",
    "                    comment_author=comment_dict.get(\"Comment_Author\"),\n",
    "                    comment_published_date=convert_to_datetime(comment_dict.get(\"Comment_PublishedAt\"))\n",
    "                )\n",
    "                comment_records.append(comment_record)\n",
    "\n",
    "    # Commit all records at once\n",
    "    session.add_all(playlist_records + video_records + comment_records)\n",
    "    try:\n",
    "        session.commit()\n",
    "    except PendingRollbackError:\n",
    "        session.rollback()  # Roll back the session\n",
    "        print(\"Transaction rolled back due to an error.\")\n",
    "    except Exception as e:\n",
    "        session.rollback()  # Roll back on any other exception\n",
    "        print(f\"An error occurred: {e}\")\n"
   ]
  },
  {
   "cell_type": "code",
   "execution_count": null,
   "id": "4b0f0728",
   "metadata": {},
   "outputs": [],
   "source": []
  },
  {
   "cell_type": "markdown",
   "id": "86a36860",
   "metadata": {},
   "source": [
    "## MySQL schema creation, Table creation and writing into it was completed."
   ]
  },
  {
   "cell_type": "code",
   "execution_count": null,
   "id": "2e4af07d",
   "metadata": {},
   "outputs": [],
   "source": []
  }
 ],
 "metadata": {
  "kernelspec": {
   "display_name": "Python(Utube_DHW_5)",
   "language": "python",
   "name": "utube_dhw_5"
  },
  "language_info": {
   "codemirror_mode": {
    "name": "ipython",
    "version": 3
   },
   "file_extension": ".py",
   "mimetype": "text/x-python",
   "name": "python",
   "nbconvert_exporter": "python",
   "pygments_lexer": "ipython3",
   "version": "3.12.0"
  }
 },
 "nbformat": 4,
 "nbformat_minor": 5
}
